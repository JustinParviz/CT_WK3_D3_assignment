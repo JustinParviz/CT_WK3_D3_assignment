{
 "cells": [
  {
   "cell_type": "markdown",
   "metadata": {},
   "source": [
    " <h1 align = center> Principles of Object Oriented Programming </h1>"
   ]
  },
  {
   "cell_type": "markdown",
   "metadata": {},
   "source": [
    "#### 4 principles\n",
    "- Encapsulation\n",
    "- Inheritance\n",
    "- Polymorphism\n",
    "- Abstraction\n"
   ]
  },
  {
   "cell_type": "markdown",
   "metadata": {},
   "source": [
    "## ENCAPSULATION"
   ]
  },
  {
   "cell_type": "markdown",
   "metadata": {},
   "source": [
    "In encapsulation, the variables of a class can be made hidden from other classes, and can be accessed only through the methods of their current class. Therefore, it is also known as data hiding.\n",
    "<br><br>\n",
    "Encapsulation can be described as a protective barrier that prevents the code and data being randomly accessed by other code defined outside the class. Access to the data and code is tightly controlled by a class."
   ]
  },
  {
   "cell_type": "code",
   "execution_count": 2,
   "metadata": {},
   "outputs": [],
   "source": [
    "from datetime import timedelta, date\n",
    "from IPython.display import Image\n",
    "import requests\n",
    "from time import sleep\n",
    "\n",
    "generic_image = 'codeflix.png'\n"
   ]
  },
  {
   "cell_type": "code",
   "execution_count": 3,
   "metadata": {},
   "outputs": [],
   "source": [
    "class TestVideo():\n",
    "    def __init__(self):\n",
    "        self.title = None\n",
    "\n",
    "    def add_title(self):\n",
    "        new_title = input(\"What are you watching? \")\n",
    "        print(f\"You are currently watching: {self.title}, now you're watching {new_title}\")\n",
    "        self.title = new_title\n",
    "\n",
    "    def display_title(self):\n",
    "        print(f\"You are watching: {self.title}\")\n",
    "\n",
    "\n",
    "\n",
    "\n",
    "my_video = TestVideo()\n",
    "# Not a good practice\n",
    "# my_video.title = \"New Video Title\"\n",
    "\n"
   ]
  },
  {
   "cell_type": "code",
   "execution_count": 3,
   "metadata": {},
   "outputs": [
    {
     "name": "stdin",
     "output_type": "stream",
     "text": [
      "What are you watching?  John Wijk\n"
     ]
    },
    {
     "name": "stdout",
     "output_type": "stream",
     "text": [
      "You are currently watching: None, now you're watching John Wijk\n"
     ]
    }
   ],
   "source": [
    "\n",
    "my_video.add_title()"
   ]
  },
  {
   "cell_type": "code",
   "execution_count": 4,
   "metadata": {},
   "outputs": [
    {
     "name": "stdin",
     "output_type": "stream",
     "text": [
      "What are you watching?  Avengers\n"
     ]
    },
    {
     "name": "stdout",
     "output_type": "stream",
     "text": [
      "You are currently watching: John Wijk, now you're watching Avengers\n"
     ]
    }
   ],
   "source": [
    "my_video.add_title()"
   ]
  },
  {
   "cell_type": "code",
   "execution_count": 8,
   "metadata": {},
   "outputs": [],
   "source": [
    "# attributes from instances are unique to that instance\n",
    "# attributes are \"protected\" by the class itself and can have further protection at various levels based on access modifiers\n",
    "\n",
    "class Video:\n",
    "    def __init__(self):\n",
    "        self.title = None\n",
    "        self.length = timedelta()\n",
    "        self.link = generic_image\n",
    "\n",
    "    def play(self):\n",
    "        print(f\"Now playing {self.title}\")\n",
    "        display(Image(url = self.link))\n",
    "\n",
    "    def __len__(self):\n",
    "        return self.length\n",
    "\n",
    "    def __repr__(self):\n",
    "        return f\"{self.title} is {self.lengthnseconds} seconds long\""
   ]
  },
  {
   "cell_type": "markdown",
   "metadata": {},
   "source": [
    "## INHERITANCE"
   ]
  },
  {
   "cell_type": "markdown",
   "metadata": {},
   "source": [
    "Inheritance can be defined as the process where one class acquires the properties (methods and fields) of another.\n",
    "<br>\n",
    "<i>(see above)</i>"
   ]
  },
  {
   "cell_type": "code",
   "execution_count": 24,
   "metadata": {},
   "outputs": [],
   "source": [
    "# Episode inherites from Video class\n",
    "class Episode(Video):\n",
    "    def __init__(self, data):\n",
    "        super().__init__()\n",
    "        self.number = data['number']\n",
    "        self.season = data['season']\n",
    "        self.date_aired = data['airdate']\n",
    "        self.summary = data['summary']\n",
    "        self.rating = data['rating']['average']\n",
    "        self.title = data['name']\n",
    "        self.length = timedelta(minutes = data['runtime'])\n",
    "        if data['image']:\n",
    "            self.link = data['image']['medium']\n",
    "     "
   ]
  },
  {
   "cell_type": "markdown",
   "metadata": {},
   "source": [
    "## POLYMORPHISM"
   ]
  },
  {
   "cell_type": "markdown",
   "metadata": {},
   "source": [
    "In object-oriented programming, polymorphism (from the Greek meaning “having multiple forms”) is the characteristic of being able to assign a different meaning or usage to something in different contexts — specifically, to allow an entity such as a function, or an object to have more than one form.\n",
    "<br><br>\n"
   ]
  },
  {
   "cell_type": "code",
   "execution_count": 34,
   "metadata": {},
   "outputs": [],
   "source": [
    "class Series():\n",
    "    def __init__(self):\n",
    "        self.id = None\n",
    "        self.network = None\n",
    "        self.seasons = None\n",
    "        self.summary = None\n",
    "        self.title = None\n",
    "        self.genres = []\n",
    "        self.episodes = []\n",
    "\n",
    "    def get_info(self, query=\"\"):\n",
    "        data = None #<-- in case we cant find the showe we're looking for\n",
    "        while not data: # loop as long as we dont find and set data from a series\n",
    "            if not query: #if we dont pass a query argument \n",
    "                query = input(\"What is the name of the series? \")\n",
    "\n",
    "            r = requests.get(f\"https://api.tvmaze.com/singlesearch/shows?q={query}\")\n",
    "            if r.status_code == 200:\n",
    "                data = r.json()\n",
    "\n",
    "            else:\n",
    "                print(f\"Series Error: status_code {r.status_code}\")\n",
    "\n",
    "\n",
    "        # using data to set our attributes\n",
    "        self.id = data['id']\n",
    "        self.title = data['name']\n",
    "        self.genres = data['genres']\n",
    "        self.summary = data['summary']\n",
    "        if data['network']:\n",
    "            self.network = data['network']['name']\n",
    "        else:\n",
    "            self.network = data['webChannel']['name']\n",
    "\n",
    "\n",
    "        # Api call for episodes\n",
    "        r = requests.get(f\"https://api.tvmaze.com/shows/{self.id}/episodes\")\n",
    "        if r.status_code == 200:\n",
    "            episode_data = r.json()\n",
    "        else:\n",
    "            print(f\"Episode Error: Status Code {r.status_code}\")\n",
    "\n",
    "        self.seasons = episode_data[-1]['season'] #last dictionary in the episode list, which is also the last season\n",
    "        self.episodes = [Episode(ep) for ep in episode_data] #another class as an attribute - object composition\n",
    "        print(f\"{self.title} has {len(self.episodes)} episodes\")\n",
    "\n",
    "\n",
    "    def watch(self):\n",
    "        for i in range(len(self.episodes)):\n",
    "            if i > 0 and i % 3 == 0:\n",
    "                watching = input(\"Are you still watching? \")\n",
    "                if watching.lower().strip() not in ('yes', 'y'):\n",
    "                    break\n",
    "            self.episodes[i].play()\n",
    "            sleep(self.episodes[i].length.seconds/1000)\n",
    "\n",
    "\n",
    "    def __len__(self):\n",
    "        return len(self.episodes)\n",
    "\n",
    "\n",
    "    def __repr__(self):\n",
    "         return f\"Title: {self.title}\"\n",
    "\n",
    "        \n",
    "\n",
    "\n"
   ]
  },
  {
   "cell_type": "code",
   "execution_count": 35,
   "metadata": {},
   "outputs": [],
   "source": [
    "first_show = Series()"
   ]
  },
  {
   "cell_type": "code",
   "execution_count": 36,
   "metadata": {},
   "outputs": [
    {
     "name": "stdin",
     "output_type": "stream",
     "text": [
      "What is the name of the series?  south park\n"
     ]
    },
    {
     "name": "stdout",
     "output_type": "stream",
     "text": [
      "South Park has 319 episodes\n"
     ]
    }
   ],
   "source": [
    "first_show.get_info()"
   ]
  },
  {
   "cell_type": "code",
   "execution_count": 37,
   "metadata": {},
   "outputs": [
    {
     "name": "stdout",
     "output_type": "stream",
     "text": [
      "Now playing Cartman Gets an Anal Probe\n"
     ]
    },
    {
     "data": {
      "text/html": [
       "<img src=\"https://static.tvmaze.com/uploads/images/medium_landscape/75/188958.jpg\"/>"
      ],
      "text/plain": [
       "<IPython.core.display.Image object>"
      ]
     },
     "metadata": {},
     "output_type": "display_data"
    },
    {
     "name": "stdout",
     "output_type": "stream",
     "text": [
      "Now playing Weight Gain 4000\n"
     ]
    },
    {
     "data": {
      "text/html": [
       "<img src=\"https://static.tvmaze.com/uploads/images/medium_landscape/75/188957.jpg\"/>"
      ],
      "text/plain": [
       "<IPython.core.display.Image object>"
      ]
     },
     "metadata": {},
     "output_type": "display_data"
    },
    {
     "name": "stdout",
     "output_type": "stream",
     "text": [
      "Now playing Volcano\n"
     ]
    },
    {
     "data": {
      "text/html": [
       "<img src=\"https://static.tvmaze.com/uploads/images/medium_landscape/45/112943.jpg\"/>"
      ],
      "text/plain": [
       "<IPython.core.display.Image object>"
      ]
     },
     "metadata": {},
     "output_type": "display_data"
    },
    {
     "name": "stdin",
     "output_type": "stream",
     "text": [
      "Are you still watching?  \n"
     ]
    }
   ],
   "source": [
    "first_show.watch()"
   ]
  },
  {
   "cell_type": "code",
   "execution_count": 41,
   "metadata": {},
   "outputs": [],
   "source": [
    "class User:\n",
    "    __id_counter = 1 # class attribute, only the class itself is going to interact with\n",
    "\n",
    "    def __init__(self, username, password):\n",
    "        self.username = username\n",
    "        self.password = password[::-2]\n",
    "        self.id = User.__id_counter\n",
    "        User.__id_counter += 1\n",
    "        self.watch_list = []\n",
    "\n",
    "    def __str__(self):\n",
    "        formatted_user = f\"\"\"\n",
    "        {self.id} - {self.username.title()}\n",
    "        pw: {self.password}\n",
    "        \"\"\"\n",
    "        return formatted_user\n",
    "\n",
    "    def __repr__(self):\n",
    "        return f\"<User {self.id} | {self.username}\"\n",
    "\n",
    "    def check_password(self, password_guess):\n",
    "        return self.password == password_guess[::-2]\n",
    "\n",
    "\n",
    "\n",
    "\n",
    "\n"
   ]
  },
  {
   "cell_type": "markdown",
   "metadata": {},
   "source": [
    "## ABSTRACTION"
   ]
  },
  {
   "cell_type": "markdown",
   "metadata": {},
   "source": [
    "Abstraction is a process of hiding the implementation details from the user, only the functionality will be provided to the user. We have a bit to do before this becomes visible. But you've seen it before with presenting the user with the option to enter inputs. We then take those input and do something with them.\n",
    "<br><br>"
   ]
  },
  {
   "cell_type": "code",
   "execution_count": 46,
   "metadata": {},
   "outputs": [],
   "source": [
    "from datetime import timedelta, date\n",
    "from IPython.display import Image\n",
    "import requests\n",
    "from time import sleep\n",
    "\n",
    "generic_image = 'codeflix.png'\n",
    "\n",
    "class Theater():\n",
    "\n",
    "    def __init__(self):\n",
    "        self.users = set()\n",
    "        self.current_user = None\n",
    "\n",
    "\n",
    "    # add a user to our collection of users\n",
    "    def add_user(self):\n",
    "        username = input(\"Please enter a username: \")\n",
    "        if username in {u.username for u in self.users}:\n",
    "            print(\"User with that name already exists. Please try again!\") #409, conflict in requests\n",
    "\n",
    "        else:\n",
    "            password = input(\"Please enter your password. \")\n",
    "            user = User(username, password)\n",
    "            self.users.add(user)\n",
    "            print(f\"{user} has been created!!\")\n",
    "\n",
    "        self.login_user()\n",
    "\n",
    "    # choose a user, login\n",
    "    def login_user(self):\n",
    "        username = input(\"What is your username? \")\n",
    "        password = input(\"What is your password? \")\n",
    "\n",
    "        for user in self.users:\n",
    "            if user.username == username and user.check_password(password):\n",
    "                self.current_user = user\n",
    "                print(f\"{user} has logged in!\")\n",
    "                break\n",
    "\n",
    "        else:\n",
    "            print(\"Username and/or password is incorrect\")\n",
    "\n",
    "    def logout(self):\n",
    "        self.current_user = None\n",
    "        print(\"You have succesfully logged out!\")\n",
    "\n",
    "    # update user information\n",
    "    def update_user(self):\n",
    "        # check if we even have a current user\n",
    "        if self.current_user:\n",
    "            print(self.current_user)\n",
    "            new_user = input(\"Please enter the updated username or enter skip to keep your current username. \")\n",
    "            if new_user.lower() != \"skip\":\n",
    "                # referencing the current user object, specifically the username attribute\n",
    "                self.current_user.username = new_user\n",
    "            new_pw = input(\"Please enter the updated password or enter skip to keep current password. \")\n",
    "            if new_pw.lower() != \"skip\":\n",
    "                # referencing the current user object, specifically the password attribute\n",
    "                self.current_user.password = new_pw\n",
    "\n",
    "            print(f\"{self.current_user.username}'s info has been updated!\")\n",
    "\n",
    "        else:\n",
    "            print(\"Please login to update information.\")\n",
    "            self.login_user()\n",
    "\n",
    "\n",
    "    # --------------------- interacting with the watchlist on the User ---------------------------------\n",
    "\n",
    "    # add to watchlist\n",
    "    def add_to_watchlist(self, query=''):\n",
    "        # instatiates the Series class\n",
    "        show = Series()\n",
    "        show.get_info(query)\n",
    "        # add our show (instance of the Series class) to the current_user object's watchlist attribute\n",
    "        self.current_user.watch_list.append(show)\n",
    "\n",
    "        print(f\"{show.title} has been added to the watchlist!\")\n",
    "\n",
    "    # view watchlist\n",
    "    def view_watchlist(self):\n",
    "        for series in self.current_user.watch_list:\n",
    "            print(f\"\\n\\n{series} | Episodes: {len(series)}\")\n",
    "            print(f\"\\nSummary: \\n {series.summary}\")\n",
    "            #                 instance of Series, episodes attribute, first episdoe, link attribute from that first episode object\n",
    "            display(Image(url=series.episodes[0].link))\n",
    "\n",
    "    # delete from watchlist\n",
    "    def delete(self):\n",
    "        print(\"Your current watch list: \")\n",
    "        self.view_watchlist()\n",
    "\n",
    "        response = input(\"What would you like to remove from your watch list? \")\n",
    "        for series in self.current_user.watch_list:\n",
    "            # Series instance.title attribute. title method that capitalizes the first letter of the string. \n",
    "            if series.title.title() == response.title():\n",
    "                self.current_user.watch_list.remove(series)\n",
    "                print(f\"{response.title()} has been removed from your watch list!\")\n",
    "                break\n",
    "        else:\n",
    "            print(\"That title is not in your watch list! \") # 404 not found\n",
    "\n",
    "        self.view_watchlist()\n",
    "\n",
    "    # choose from watchlist\n",
    "    def choose_from_watchlist(self):\n",
    "        self.view_watchlist()\n",
    "\n",
    "        watch = input(\"What would you like to watch? \")\n",
    "        for series in self.current_user.watch_list:\n",
    "            if series.title.lower() == watch.lower().strip():\n",
    "                series.watch()\n",
    "                break\n",
    "\n",
    "        else:\n",
    "            response = input(f\"{watch} is not in your watch list... would you like to add it.... y/n?\")\n",
    "            if response in ('yes', 'y'):\n",
    "                self.add_to_watchlist(watch)\n",
    "                print(\".........\")\n",
    "                sleep(2)\n",
    "                print(\".........\")\n",
    "                self.current_user.watch_list[-1].watch()\n",
    "\n",
    "\n",
    "    # run function to drive the program\n",
    "    def run(self):\n",
    "        \"\"\"\n",
    "        Method allowing users to sign in, choose a series, and play episodes\n",
    "        \"\"\"\n",
    "        display(Image(url=generic_image))\n",
    "\n",
    "        if self.users:\n",
    "            self.choose_user()\n",
    "        else:\n",
    "            self.add_user()\n",
    "\n",
    "            print(\"\"\"\n",
    "            What would you like to do?\n",
    "            Add- add a new user\n",
    "            Login - login to a your profile\n",
    "            Update - update user info\n",
    "            Logout - logout of your profile\n",
    "            Search - Search for shows\n",
    "            Watch - Pick something from your watchlist\n",
    "            View - View watch list\n",
    "            Delete - Delete from watch list\n",
    "            Quit - Close the application           \n",
    "            \n",
    "            \n",
    "            \"\"\")\n",
    "\n",
    "        while True:\n",
    "            response = input(\"What would you like to do? (add, update, login, logout, search, watch, view, delete, quit) \")\n",
    "            \n",
    "            if response.lower() == \"search\":\n",
    "                self.add_to_watchlist()\n",
    "            elif response.lower() == \"watch\":\n",
    "                self.choose_from_watchlist()\n",
    "            elif response.lower() == \"add\":\n",
    "                self.add_user()\n",
    "            elif response.lower() == 'logout':\n",
    "                self.logout()\n",
    "                new_response = input(\"What would you like to do next? login, add, quit\")\n",
    "                if new_response.lower() == 'add':\n",
    "                    self.add_user()\n",
    "                elif new_response.lower() == 'login':\n",
    "                    self.login_user()\n",
    "                elif new_response.lower() == 'quit':\n",
    "                    print(\"Thanks for watching!\")\n",
    "                    break\n",
    "                else:\n",
    "                    print(\"Please enter a valid response and try again!\")\n",
    "            elif response.lower() == 'login':\n",
    "                self.login_user()\n",
    "            elif response.lower() == \"update\":\n",
    "                self.update_user()\n",
    "                    \n",
    "                    \n",
    "            \n",
    "            elif response.lower() == \"view\":\n",
    "                self.view_watchlist()\n",
    "            elif response.lower() == \"delete\":\n",
    "                self.delete()\n",
    "            elif response.lower() == \"quit\":\n",
    "                print(f\"Thanks for watching! {self.current_user}! Now go outside!\")\n",
    "                break\n",
    "            else:\n",
    "                print(\"Invalid Input: please choose from the list!\")\n",
    "                \n",
    "    \n",
    "\n",
    "\n",
    "\n",
    "\n",
    "\n"
   ]
  },
  {
   "cell_type": "code",
   "execution_count": 47,
   "metadata": {},
   "outputs": [],
   "source": [
    "codeflix = Theater()"
   ]
  },
  {
   "cell_type": "code",
   "execution_count": 48,
   "metadata": {},
   "outputs": [
    {
     "data": {
      "text/html": [
       "<img src=\"codeflix.png\"/>"
      ],
      "text/plain": [
       "<IPython.core.display.Image object>"
      ]
     },
     "metadata": {},
     "output_type": "display_data"
    },
    {
     "name": "stdin",
     "output_type": "stream",
     "text": [
      "Please enter a username:  J Dogg\n",
      "Please enter your password.  J123\n"
     ]
    },
    {
     "name": "stdout",
     "output_type": "stream",
     "text": [
      "\n",
      "        2 - J Dogg\n",
      "        pw: 31\n",
      "         has been created!!\n"
     ]
    },
    {
     "name": "stdin",
     "output_type": "stream",
     "text": [
      "What is your username?  J Dogg\n",
      "What is your password?  J123\n"
     ]
    },
    {
     "name": "stdout",
     "output_type": "stream",
     "text": [
      "\n",
      "        2 - J Dogg\n",
      "        pw: 31\n",
      "         has logged in!\n",
      "\n",
      "            What would you like to do?\n",
      "            Add- add a new user\n",
      "            Login - login to a your profile\n",
      "            Update - update user info\n",
      "            Logout - logout of your profile\n",
      "            Search - Search for shows\n",
      "            Watch - Pick something from your watchlist\n",
      "            View - View watch list\n",
      "            Delete - Delete from watch list\n",
      "            Quit - Close the application           \n",
      "            \n",
      "            \n",
      "            \n"
     ]
    },
    {
     "name": "stdin",
     "output_type": "stream",
     "text": [
      "What would you like to do? (add, update, login, logout, search, watch, view, delete, quit)  search\n",
      "What is the name of the series?  two and a half men\n"
     ]
    },
    {
     "name": "stdout",
     "output_type": "stream",
     "text": [
      "Two and a Half Men has 262 episodes\n",
      "Two and a Half Men has been added to the watchlist!\n"
     ]
    },
    {
     "name": "stdin",
     "output_type": "stream",
     "text": [
      "What would you like to do? (add, update, login, logout, search, watch, view, delete, quit)  quit\n"
     ]
    },
    {
     "name": "stdout",
     "output_type": "stream",
     "text": [
      "Thanks for watching! \n",
      "        2 - J Dogg\n",
      "        pw: 31\n",
      "        ! Now go outside!\n"
     ]
    }
   ],
   "source": [
    "codeflix.run()"
   ]
  },
  {
   "cell_type": "markdown",
   "metadata": {},
   "source": [
    "## Exercise 1"
   ]
  },
  {
   "cell_type": "markdown",
   "metadata": {},
   "source": [
    "<p>Describe in your own words the following concepts and give an analogy tying to a real-world concept."
   ]
  },
  {
   "cell_type": "markdown",
   "metadata": {},
   "source": [
    "#### Difference between a Class and an Object"
   ]
  },
  {
   "cell_type": "code",
   "execution_count": null,
   "metadata": {},
   "outputs": [],
   "source": [
    "# A class is the blueprint for the objects that you are going to create and an abject is the entity that you are trying to create or store and process data about.\n",
    "# A class can be combined together into systems and a class is also what contains your attributes and methods and allows you to properly reference your values with certain labels. \n",
    "# Each class is independent but one class can rely on another class for its attributes which is an example of composition.\n",
    "\n",
    "# An analogy that helps me better understand the difference between a class and an object is thinking of classes as human cells and the attributes and methods that they contain as molecules and atoms.\n",
    "# I also think of the systems that classes can be used to make by combining them together as systems of the human body like the muscular system, skeletal system, nervous system, etc.\n",
    "# Last but not least I think of an boject as the human body itself, which is made up of certain systems, cells, and molecules. "
   ]
  },
  {
   "cell_type": "markdown",
   "metadata": {},
   "source": [
    "#### Encapsulation"
   ]
  },
  {
   "cell_type": "code",
   "execution_count": null,
   "metadata": {},
   "outputs": [],
   "source": [
    "# Encapsulation is also known as data hiding since the variables of a class can be made hidden from the other classes that can make use of it. \n",
    "# These variables can then only be accessed by the methods of their current class.\n",
    "\n",
    "# A weird analogy that makes me understand this concept is the superhero Sue Storm from the Fantastic Four since she has the power to create force fields.\n",
    "# And everything and everyone inside her force field is safe from anything outside her force fields.  "
   ]
  },
  {
   "cell_type": "markdown",
   "metadata": {},
   "source": [
    "#### Inheritance"
   ]
  },
  {
   "cell_type": "code",
   "execution_count": null,
   "metadata": {},
   "outputs": [],
   "source": [
    "# Inheritance is the process where one class can acquire the properties and methods of another class. \n",
    "# This is done by putting the name of the \"Parent Class\" in the parenthesis that are located next to the \"Child Class\"\n",
    "# It is a handy tool for creating variations in classes.\n",
    "\n",
    "# An analogy that helps me better understand this concept is the real life traits and characteristics that we inherit from our parents."
   ]
  },
  {
   "cell_type": "markdown",
   "metadata": {},
   "source": [
    "#### Polymorphism"
   ]
  },
  {
   "cell_type": "code",
   "execution_count": null,
   "metadata": {},
   "outputs": [],
   "source": [
    "# Polymorphism is when a class implements an inherited method in its own way.\n",
    "# For example it can be used to allow certain types of data to be saved differently by overriding the code of the methods that they inherit.\n",
    "\n",
    "# An example that demonstrates this is a website saving certain types of data like a user's username and password on a seperate server for privacy and safety reasons."
   ]
  },
  {
   "cell_type": "markdown",
   "metadata": {},
   "source": [
    "#### Abstraction"
   ]
  },
  {
   "cell_type": "code",
   "execution_count": null,
   "metadata": {},
   "outputs": [],
   "source": [
    "# Abstraction is the process of only providing the functionality of your code to the user while hiding other details of your code from that user.\n",
    "# It allows you to use the data that is relevant and perform the tasks that you want to execute with that data.\n",
    "\n",
    "# An analogy that helps me better understand this is actual artwork since art can be abstract and not always look as it may seem."
   ]
  },
  {
   "cell_type": "markdown",
   "metadata": {},
   "source": [
    "##  Exercise 2 (Optional):\n",
    "Discuss what other classes, methods, or fields (attributes) we could make to improve our streaming service using these principles. <br> <br>\n",
    "Start making a few of them and see where it leads. Make sure you either write out your thoughts in the below cell  or comment where you added code to the above Classes."
   ]
  },
  {
   "cell_type": "code",
   "execution_count": null,
   "metadata": {},
   "outputs": [],
   "source": []
  }
 ],
 "metadata": {
  "kernelspec": {
   "display_name": "Python 3 (ipykernel)",
   "language": "python",
   "name": "python3"
  },
  "language_info": {
   "codemirror_mode": {
    "name": "ipython",
    "version": 3
   },
   "file_extension": ".py",
   "mimetype": "text/x-python",
   "name": "python",
   "nbconvert_exporter": "python",
   "pygments_lexer": "ipython3",
   "version": "3.12.1"
  }
 },
 "nbformat": 4,
 "nbformat_minor": 4
}
